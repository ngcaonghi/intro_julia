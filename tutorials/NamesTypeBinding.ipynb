{
 "cells": [
  {
   "cell_type": "markdown",
   "metadata": {},
   "source": [
    "# Tutorial 1: Names, Types, and Binding in Julia\n",
    "\n",
    "This first tutorial walks you through the basics of variable names, types, and binding behaviors in Julia without bogging you down in the specifics and jargons of language design. Which is honestly quite a lot to learn already: Julia has a few idiosyncracies that are either unseen in or remixes from popular languages like Python, C++, Lisp, Matlab, and so on. "
   ]
  },
  {
   "cell_type": "markdown",
   "metadata": {},
   "source": [
    "## 1. Names\n",
    "\n",
    "Let's start with variable names. Actually, let's start with the 29 reserved keywords that must *not* be variable names, which are `baremodule`, `begin`, `break`, `catch`, `const`, `continue`, `do`, `else`, `elseif`, `end`, `export`, `false`, `finally`, `for`, `function`, `global`, `if`, `import`, `let`, `local`, `macro`, `module`, `quote`, `return`, `struct`, `true`, `try`, `using`, and `while`. Other than those, you can name your variables in whatever ways you want, as long as they\n",
    "\n",
    "- do not start with any digit or symbols other than letters (a-z or A-Z), underscore `_`, emojis, and a handful of other symbols whose Unicode points are greater than 00A0 (the best way to find out which ones exactly is, unfortunately, trial-and-error), and\n",
    "- continue with all such symbols as well as `!` and digits (0-9) (and a few others that are also unfortunately best found out by trial-and-error).\n",
    "\n",
    "To make things less confusing and more readable, the following conventions created by the Julia community should be adopted:\n",
    "\n",
    "- Names should all start with Roman letters.\n",
    "- Variable names should be in `snake_case` (although they are encouraged to be short and not having any underscore \"`_`\") and all lowercase.\n",
    "- Constant names should be capitalized and in `SNAKE_CASE`.\n",
    "- Structs, Types and Modules should begin with a capital letter and be in upper `CamelCase`.\n",
    "\n",
    "Some Julia programmers use Greek letters and some uncommon symbols to name mathematical variables, which are apparently accepted by the Julia community. However, I find them a bit inconvenient: to type a symbol like Σ, you either need to have a keyboard mapping that supports it or type `\\Sigma`*-tab* in the Julia shell."
   ]
  },
  {
   "cell_type": "code",
   "execution_count": null,
   "metadata": {},
   "outputs": [],
   "source": [
    "# Examples of variable names that are legal but unconventional and/or ugly:\n",
    "😅yikes😅 = \"yikes\"\n",
    "xₐ = \"xa\"\n",
    "\n",
    "# Examples of variable and constant names that are legal and conventional:\n",
    "x = 2\n",
    "xa = 2\n",
    "x_other = 2\n",
    "X_CONSTANT = 2"
   ]
  },
  {
   "cell_type": "markdown",
   "metadata": {},
   "source": [
    "## 2. Types\n",
    "\n",
    "Julia is dynamically (and relatively strongly) typed, but it allows specifying types like statistically typed languages abeit in slightly dissimilar manners. For example, the following lines are legal and prompt the Julia compiler to infer the type of each variable:"
   ]
  },
  {
   "cell_type": "markdown",
   "metadata": {},
   "source": [
    "### 2.1. Dynamic versus static typing"
   ]
  },
  {
   "cell_type": "code",
   "execution_count": 87,
   "metadata": {},
   "outputs": [
    {
     "name": "stdout",
     "output_type": "stream",
     "text": [
      "Type of `integer_d`: Int64\n",
      "Type of `unsigned_d`: UInt64\n",
      "Type of `floating_d`: Float64\n",
      "Type of `char_d`: Char\n",
      "Type of `string_d`: String\n",
      "Type of `boolean_d`: Bool\n",
      "Type of `array_d`: Vector{Int64}\n",
      "Type of `dictionary_d`: Dict{String, Int64}\n"
     ]
    }
   ],
   "source": [
    "integer_d = 3\n",
    "unsigned_d = 0x123456789abcdef\n",
    "float_d = 3.5\n",
    "char_d = '3'\n",
    "string_d = \"three\"\n",
    "boolean_d = true\n",
    "array_d = [1, 2, 3]\n",
    "dictionary_d = Dict(\"one\" => 1, \"two\" => 2, \"three\" => 3)\n",
    "\n",
    "println(\"Type of `integer_d`: \", typeof(integer_d))\n",
    "println(\"Type of `unsigned_d`: \", typeof(unsigned_d))\n",
    "println(\"Type of `floating_d`: \", typeof(float_d))\n",
    "println(\"Type of `char_d`: \", typeof(char_d))\n",
    "println(\"Type of `string_d`: \", typeof(string_d))\n",
    "println(\"Type of `boolean_d`: \", typeof(boolean_d))\n",
    "println(\"Type of `array_d`: \", typeof(array_d))\n",
    "println(\"Type of `dictionary_d`: \", typeof(dictionary_d))"
   ]
  },
  {
   "cell_type": "markdown",
   "metadata": {},
   "source": [
    "The following lines are also legal, where the type each variable is explicitly declared:"
   ]
  },
  {
   "cell_type": "code",
   "execution_count": 88,
   "metadata": {},
   "outputs": [
    {
     "name": "stdout",
     "output_type": "stream",
     "text": [
      "Type of `integer_s`: Int64\n",
      "Type of `unsigned_s`: UInt64\n",
      "Type of `float_s`: Float64\n",
      "Type of `char_s`: Char\n",
      "Type of `string_s`: String\n",
      "Type of `boolean_s`: Bool\n",
      "Type of `array_s`: Vector{Int64}\n",
      "Type of `dictionary_s`: Dict{String, Int64}\n"
     ]
    }
   ],
   "source": [
    "let \n",
    "    integer_s::Int = 3 \n",
    "    unsigned_s::UInt = 0x123456789abcdef\n",
    "    float_s::AbstractFloat = 3.5\n",
    "    char_s::Char = '3'\n",
    "    string_s::String = \"three\"\n",
    "    boolean_s::Bool = true\n",
    "    array_s::Array = [1, 2, 3]\n",
    "    dictionary_s::Dict = Dict(\"one\" => 1, \"two\" => 2, \"three\" => 3)\n",
    "    println(\"Type of `integer_s`: \", typeof(integer_s))\n",
    "    println(\"Type of `unsigned_s`: \", typeof(unsigned_s))\n",
    "    println(\"Type of `float_s`: \", typeof(float_s))\n",
    "    println(\"Type of `char_s`: \", typeof(char_s))\n",
    "    println(\"Type of `string_s`: \", typeof(string_s))\n",
    "    println(\"Type of `boolean_s`: \", typeof(boolean_s))\n",
    "    println(\"Type of `array_s`: \", typeof(array_s))\n",
    "    println(\"Type of `dictionary_s`: \", typeof(dictionary_s))\n",
    "end\n"
   ]
  },
  {
   "cell_type": "markdown",
   "metadata": {},
   "source": [
    "However, did you notice anything interesting about the code above? The first thing is that *variable types can only be explicitly declared within local scopes* which can be enclosed by `let` blocks (or other scope blocks such as `while` loops). The Julia REPL recognizes the variable in the following line as global and forbids its type being explicit declared:"
   ]
  },
  {
   "cell_type": "code",
   "execution_count": 20,
   "metadata": {},
   "outputs": [
    {
     "ename": "LoadError",
     "evalue": "syntax: type declarations on global variables are not yet supported",
     "output_type": "error",
     "traceback": [
      "syntax: type declarations on global variables are not yet supported",
      "",
      "Stacktrace:",
      " [1] top-level scope",
      "   @ In[20]:1",
      " [2] eval",
      "   @ ./boot.jl:373 [inlined]",
      " [3] include_string(mapexpr::typeof(REPL.softscope), mod::Module, code::String, filename::String)",
      "   @ Base ./loading.jl:1196"
     ]
    }
   ],
   "source": [
    "integer_s::Int = 3 "
   ]
  },
  {
   "cell_type": "markdown",
   "metadata": {},
   "source": [
    "The second peculiar thing is that even though the types are declared, *the Julia compiler further infers them as something else*. This is called *type aliasing*; for instance, `Int` is an alias of `Int64` in 64-bit systems; therefore, calling the `typeof` method on an object declared as `Int` actually returns `Int64`. This behavior implies one thing that differentiates Julia from other statically typed languages: type declaration most likely does *not* introduce any performance gain, since the compiler has to infer the variable's type anyway regardless of the declared type. Take a look at the next block of code, which shows that there is almost no difference in execution time between dynamic and static typing and among different types sharing the same supertype: "
   ]
  },
  {
   "cell_type": "code",
   "execution_count": 57,
   "metadata": {},
   "outputs": [
    {
     "name": "stdout",
     "output_type": "stream",
     "text": [
      "  7.536 ns (0 allocations: 0 bytes)\n",
      "  7.535 ns (0 allocations: 0 bytes)\n",
      "  7.539 ns (0 allocations: 0 bytes)\n",
      "  7.534 ns (0 allocations: 0 bytes)\n"
     ]
    }
   ],
   "source": [
    "import Pkg; Pkg.add(\"BenchmarkTools\")\n",
    "using BenchmarkTools\n",
    "\n",
    "function loop_init_float_dynamic()\n",
    "    for i in 0:10^10 x = 3.5 end\n",
    "end\n",
    "\n",
    "function loop_init_abstract_float()\n",
    "    for i in 0:10^10 x::AbstractFloat = 3.5 end\n",
    "end\n",
    "\n",
    "function loop_init_float32()\n",
    "    for i in 0:10^10 x::Float32 = 3.5 end\n",
    "end\n",
    "\n",
    "function loop_init_float64()\n",
    "    for i in 0:10^10 x::Float64 = 3.5 end\n",
    "end\n",
    "\n",
    "@btime loop_init_float_dynamic()\n",
    "@btime loop_init_abstract_float()\n",
    "@btime loop_init_float32()\n",
    "@btime loop_init_float64()"
   ]
  },
  {
   "cell_type": "markdown",
   "metadata": {},
   "source": [
    "### 2.2. Primitive types and conversion"
   ]
  },
  {
   "cell_type": "markdown",
   "metadata": {},
   "source": [
    "Julia has a set of standard primitive types that give rise to all concrete data types, namely `Float16`, `Float32`, `Float64`, `Bool`, `Char`, `Int8`, `UInt8`, `Int16`, `UInt16`,`Int32`, `UInt32`,`Int64`, `UInt64`,`Int128`, and `UInt128`. Julia also has a bunch of built-in abstract types such as `Number`, which relate to one another and to concrete and/or primitive types in a hierarchy whose root is the type `Any`. To have a glimpse of that hierarchy, take a look at the following code which traverses through the supertypes of the objects we constructed a few blocks above:"
   ]
  },
  {
   "cell_type": "code",
   "execution_count": 100,
   "metadata": {},
   "outputs": [
    {
     "name": "stdout",
     "output_type": "stream",
     "text": [
      "Traverse `3`: \tInt64 -> Signed -> Integer -> Real -> Number -> Any\n",
      "Traverse `81985529216486895`: \tUInt64 -> Unsigned -> Integer -> Real -> Number -> Any\n",
      "Traverse `3.5`: \tFloat64 -> AbstractFloat -> Real -> Number -> Any\n",
      "Traverse `3`: \tChar -> AbstractChar -> Any\n",
      "Traverse `three`: \tString -> AbstractString -> Any\n",
      "Traverse `true`: \tBool -> Integer -> Real -> Number -> Any\n",
      "Traverse `[1, 2, 3]`: \tVector{Int64} -> DenseVector{Int64} -> AbstractVector{Int64} -> Any\n",
      "Traverse `Dict(\"two\" => 2, \"one\" => 1, \"three\" => 3)`: \tDict{String, Int64} -> AbstractDict{String, Int64} -> Any\n"
     ]
    }
   ],
   "source": [
    "function typetraverse(x)\n",
    "    sub = typeof(x)\n",
    "    super = supertype(sub)\n",
    "    print(sub)\n",
    "    while sub != super \n",
    "        print(\" -> \", super)\n",
    "        sub = super \n",
    "        super = supertype(sub)\n",
    "    end\n",
    "end\n",
    "\n",
    "examples = [integer_d, unsigned_d, float_d, char_d, string_d, boolean_d, \n",
    "            array_d, dictionary_d]\n",
    "\n",
    "for e in examples\n",
    "    print(\"Traverse `$e`: \\t\")\n",
    "    typetraverse(e)\n",
    "    println()\n",
    "end\n"
   ]
  },
  {
   "cell_type": "markdown",
   "metadata": {},
   "source": [
    "Looking at the results above might give us some intuition about the fact that in some cases, when the variables are explicitly typed, the value bound to one variable can be converted into something else upon being assigned to another variable, *e.g.,*"
   ]
  },
  {
   "cell_type": "code",
   "execution_count": 164,
   "metadata": {},
   "outputs": [
    {
     "name": "stdout",
     "output_type": "stream",
     "text": [
      "Type of y is UInt128\n",
      "Type of x is Int16"
     ]
    }
   ],
   "source": [
    "let \n",
    "    x::Int16 = 2\n",
    "    y::UInt128 = 3\n",
    "    println(\"Type of y is \", typeof(y))\n",
    "    x = y\n",
    "    print(\"Type of x is \", typeof(x))\n",
    "end"
   ]
  },
  {
   "cell_type": "markdown",
   "metadata": {},
   "source": [
    "which also makes the following code legal,"
   ]
  },
  {
   "cell_type": "code",
   "execution_count": 167,
   "metadata": {},
   "outputs": [
    {
     "name": "stdout",
     "output_type": "stream",
     "text": [
      "Type of z is Char\n",
      "z = 7\n",
      "Type of c is Float64\n",
      "c = 5.5\n"
     ]
    }
   ],
   "source": [
    "let \n",
    "    # implicit conversion\n",
    "    x::Char = '2'\n",
    "    y::Int64 = 5\n",
    "    z = x+y\n",
    "    println(\"Type of z is \", typeof(z))\n",
    "    println(\"z = \", z)\n",
    "\n",
    "    # implcit, widening conversion\n",
    "    a::Float64 = 3.5\n",
    "    b::Int64 = 2\n",
    "    c = a + b\n",
    "    println(\"Type of c is \", typeof(c))\n",
    "    println(\"c = \", c)\n",
    "end"
   ]
  },
  {
   "cell_type": "markdown",
   "metadata": {},
   "source": [
    "However, conversion is not always possible, *e.g.*,"
   ]
  },
  {
   "cell_type": "code",
   "execution_count": 169,
   "metadata": {},
   "outputs": [
    {
     "ename": "LoadError",
     "evalue": "MethodError: \u001b[0mCannot `convert` an object of type \u001b[92mString\u001b[39m\u001b[0m to an object of type \u001b[91mInt64\u001b[39m\n\u001b[0mClosest candidates are:\n\u001b[0m  convert(::Type{T}, \u001b[91m::Ptr\u001b[39m) where T<:Integer at /usr/share/julia/base/pointer.jl:23\n\u001b[0m  convert(::Type{T}, \u001b[91m::T\u001b[39m) where T<:Number at /usr/share/julia/base/number.jl:6\n\u001b[0m  convert(::Type{T}, \u001b[91m::Number\u001b[39m) where T<:Number at /usr/share/julia/base/number.jl:7\n\u001b[0m  ...",
     "output_type": "error",
     "traceback": [
      "MethodError: \u001b[0mCannot `convert` an object of type \u001b[92mString\u001b[39m\u001b[0m to an object of type \u001b[91mInt64\u001b[39m\n\u001b[0mClosest candidates are:\n\u001b[0m  convert(::Type{T}, \u001b[91m::Ptr\u001b[39m) where T<:Integer at /usr/share/julia/base/pointer.jl:23\n\u001b[0m  convert(::Type{T}, \u001b[91m::T\u001b[39m) where T<:Number at /usr/share/julia/base/number.jl:6\n\u001b[0m  convert(::Type{T}, \u001b[91m::Number\u001b[39m) where T<:Number at /usr/share/julia/base/number.jl:7\n\u001b[0m  ...",
      "",
      "Stacktrace:",
      " [1] top-level scope",
      "   @ In[169]:4",
      " [2] eval",
      "   @ ./boot.jl:373 [inlined]",
      " [3] include_string(mapexpr::typeof(REPL.softscope), mod::Module, code::String, filename::String)",
      "   @ Base ./loading.jl:1196"
     ]
    }
   ],
   "source": [
    "let\n",
    "    x::Int64 = 3 \n",
    "    y::String = \"three\"\n",
    "    x = y\n",
    "    println(\"Type of `integer_s`: \", typeof(x))\n",
    "end"
   ]
  },
  {
   "cell_type": "code",
   "execution_count": 168,
   "metadata": {},
   "outputs": [
    {
     "ename": "LoadError",
     "evalue": "InexactError: Int64(0.5)",
     "output_type": "error",
     "traceback": [
      "InexactError: Int64(0.5)",
      "",
      "Stacktrace:",
      " [1] Int64",
      "   @ ./float.jl:812 [inlined]",
      " [2] convert(#unused#::Type{Int64}, x::Float64)",
      "   @ Base ./number.jl:7",
      " [3] top-level scope",
      "   @ In[168]:4",
      " [4] eval",
      "   @ ./boot.jl:373 [inlined]",
      " [5] include_string(mapexpr::typeof(REPL.softscope), mod::Module, code::String, filename::String)",
      "   @ Base ./loading.jl:1196"
     ]
    }
   ],
   "source": [
    "let\n",
    "    x::Int64 = 3 \n",
    "    y::Float64 = 0.5\n",
    "    x = y\n",
    "    println(\"Type of `x`: \", typeof(x))\n",
    "end"
   ]
  },
  {
   "cell_type": "markdown",
   "metadata": {},
   "source": [
    "### 2.3. Mutable versus immutable types"
   ]
  },
  {
   "cell_type": "markdown",
   "metadata": {},
   "source": [
    "Notice that in all such cases, variables with declared types are *immutable* because they are primitive types. Some built-in composite types (*i.e.,* non-primitive types) in Julia are mutable, *i.e.* a variable's value can be changed after it is constructed. An example is the `Array` type:"
   ]
  },
  {
   "cell_type": "code",
   "execution_count": 174,
   "metadata": {},
   "outputs": [
    {
     "name": "stdout",
     "output_type": "stream",
     "text": [
      "[1, 2, 3, 4]"
     ]
    }
   ],
   "source": [
    "let\n",
    "    arr::Array = [1, 2, 3]\n",
    "    append!(arr, 4)\n",
    "    print(arr)\n",
    "end"
   ]
  },
  {
   "cell_type": "markdown",
   "metadata": {},
   "source": [
    "However, composite type objects declared by the `struct` keyword are immutable:"
   ]
  },
  {
   "cell_type": "code",
   "execution_count": 175,
   "metadata": {},
   "outputs": [
    {
     "ename": "LoadError",
     "evalue": "setfield!: immutable struct of type MyObject cannot be changed",
     "output_type": "error",
     "traceback": [
      "setfield!: immutable struct of type MyObject cannot be changed",
      "",
      "Stacktrace:",
      " [1] setproperty!(x::MyObject, f::Symbol, v::Int64)",
      "   @ Base ./Base.jl:43",
      " [2] top-level scope",
      "   @ In[175]:7",
      " [3] eval",
      "   @ ./boot.jl:373 [inlined]",
      " [4] include_string(mapexpr::typeof(REPL.softscope), mod::Module, code::String, filename::String)",
      "   @ Base ./loading.jl:1196"
     ]
    }
   ],
   "source": [
    "struct MyObject \n",
    "    x::Int\n",
    "    y::Float64\n",
    "end\n",
    "\n",
    "m = MyObject(0, 0.5)\n",
    "m.x = 3"
   ]
  },
  {
   "cell_type": "markdown",
   "metadata": {},
   "source": [
    "To make `MyObject` mutable, it must be declared by the `mutable struct` keyword:"
   ]
  },
  {
   "cell_type": "code",
   "execution_count": 178,
   "metadata": {},
   "outputs": [
    {
     "data": {
      "text/plain": [
       "3"
      ]
     },
     "execution_count": 178,
     "metadata": {},
     "output_type": "execute_result"
    }
   ],
   "source": [
    "mutable struct MyObject2 \n",
    "    x::Int\n",
    "    y::Float64\n",
    "end\n",
    "\n",
    "m = MyObject2(0, 0.5)\n",
    "m.x = 3"
   ]
  }
 ],
 "metadata": {
  "kernelspec": {
   "display_name": "Julia 1.7.2",
   "language": "julia",
   "name": "julia-1.7"
  },
  "language_info": {
   "file_extension": ".jl",
   "mimetype": "application/julia",
   "name": "julia",
   "version": "1.7.2"
  },
  "orig_nbformat": 2
 },
 "nbformat": 4,
 "nbformat_minor": 2
}
