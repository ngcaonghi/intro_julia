{
 "cells": [
  {
   "cell_type": "markdown",
   "metadata": {},
   "source": [
    "# Tutorial 3: Loops and Subroutines in Julia\n",
    "\n",
    "We've come to a point where weird and interesting things in Julia start to appear. Since Julia incorporates features of many languages, some of which are not very popular, a foray into serious Julia programming might introduce you to some \"syntactic peculiarities\" or behaviors that sometimes knock you off your feet if your programming life has recently been heavily dependent on just a few languages. With loops, for instance, there are some conventions that are similar to Matlab, while recursion looks familiar enough to those used to functional programming. Subroutines, or *functions*, start to show slivers of Julia's central programming paradigm, *i.e.*, **multiple dispatch**. And argument passing follows a convention called \"pass by sharing\", which might sound foreign (or not) to many programmers (although it is heavily used in Python and JavaScript albeit under different nomenclatures)."
   ]
  },
  {
   "cell_type": "markdown",
   "metadata": {},
   "source": [
    "## 1. Loops\n",
    "\n",
    "Let's start with something less surprising first: loops. Loops in Julia are pretty similar to those in Python and Matlab. We've got our good old friend `while`(-do) loop:"
   ]
  },
  {
   "cell_type": "code",
   "execution_count": 1,
   "metadata": {},
   "outputs": [
    {
     "name": "stdout",
     "output_type": "stream",
     "text": [
      "current i = 3\n",
      "current i = 2\n",
      "current i = 1\n"
     ]
    }
   ],
   "source": [
    "i = 3\n",
    "while i > 0\n",
    "    println(\"current i = \", i)\n",
    "    i -= 1\n",
    "end "
   ]
  },
  {
   "cell_type": "markdown",
   "metadata": {},
   "source": [
    "Julia does not have dedicated keywords for do-while loops, but you can always get around by `while true` and having a `break` condition near the end of the `while` block:"
   ]
  },
  {
   "cell_type": "code",
   "execution_count": 9,
   "metadata": {},
   "outputs": [
    {
     "name": "stdout",
     "output_type": "stream",
     "text": [
      "current i = 3\n",
      "current i = 2\n",
      "current i = 1\n"
     ]
    }
   ],
   "source": [
    "i = 3\n",
    "while true\n",
    "    println(\"current i = \", i)\n",
    "    i -= 1\n",
    "    i > 0 || break # hey, I'm starting to get addicted to this syntactic sugar,\n",
    "                   # which was introduced in Tutorial 2. You can replace this \n",
    "                   # by the good old-fashioned `if-break` combo.\n",
    "end "
   ]
  },
  {
   "cell_type": "markdown",
   "metadata": {},
   "source": [
    "The syntax for `for` loops is very similar to that in Matlab (with a bit of Python): you construct a range, whose both ends are **inclusive**, by stating the starting point (conventionally `1`) and the stopping point. If you want to loop 3 times, the range is `1:3`. The syntax then is"
   ]
  },
  {
   "cell_type": "code",
   "execution_count": 14,
   "metadata": {},
   "outputs": [
    {
     "name": "stdout",
     "output_type": "stream",
     "text": [
      "1\n",
      "2\n",
      "3\n"
     ]
    }
   ],
   "source": [
    "for i in 1:3\n",
    "    println(i)\n",
    "end"
   ]
  },
  {
   "cell_type": "markdown",
   "metadata": {},
   "source": [
    "`for`-each, *e.g* when iterating items in an array, follows the same syntax:"
   ]
  },
  {
   "cell_type": "code",
   "execution_count": 15,
   "metadata": {},
   "outputs": [
    {
     "name": "stdout",
     "output_type": "stream",
     "text": [
      "1\n",
      "2\n",
      "3\n"
     ]
    }
   ],
   "source": [
    "for i in [1 2 3]\n",
    "    println(i)\n",
    "end"
   ]
  },
  {
   "cell_type": "markdown",
   "metadata": {},
   "source": [
    "If you *really* miss Matlab, the following syntax for `for` and `for`-each is exactly the same as that in Matlab:"
   ]
  },
  {
   "cell_type": "code",
   "execution_count": 11,
   "metadata": {},
   "outputs": [
    {
     "name": "stdout",
     "output_type": "stream",
     "text": [
      "1\n",
      "2\n",
      "3\n"
     ]
    }
   ],
   "source": [
    "for i = 1:3\n",
    "    println(i)\n",
    "end"
   ]
  },
  {
   "cell_type": "code",
   "execution_count": 16,
   "metadata": {},
   "outputs": [
    {
     "name": "stdout",
     "output_type": "stream",
     "text": [
      "1\n",
      "2\n",
      "3\n"
     ]
    }
   ],
   "source": [
    "for i = [1 2 3]\n",
    "    println(i)\n",
    "end"
   ]
  },
  {
   "cell_type": "markdown",
   "metadata": {},
   "source": [
    "You know what also resembles Matlab? The syntax for ranges with increments other than 1. The formula is `<start>:<step>:<stop>` and used like this:"
   ]
  },
  {
   "cell_type": "code",
   "execution_count": 12,
   "metadata": {},
   "outputs": [
    {
     "name": "stdout",
     "output_type": "stream",
     "text": [
      "1\n",
      "3\n",
      "5\n"
     ]
    }
   ],
   "source": [
    "for i = 1:2:6\n",
    "    println(i)\n",
    "end"
   ]
  },
  {
   "cell_type": "markdown",
   "metadata": {},
   "source": [
    "You can also iterate backwards:"
   ]
  },
  {
   "cell_type": "code",
   "execution_count": 17,
   "metadata": {},
   "outputs": [
    {
     "name": "stdout",
     "output_type": "stream",
     "text": [
      "6\n",
      "4\n",
      "2\n"
     ]
    }
   ],
   "source": [
    "for i = 6:-2:1\n",
    "    println(i)\n",
    "end"
   ]
  },
  {
   "cell_type": "markdown",
   "metadata": {},
   "source": [
    "## 2. Function"
   ]
  },
  {
   "cell_type": "markdown",
   "metadata": {},
   "source": [
    "### 2.1. A glimpse of ✨✨✨<span style=\"color:violet\">***MULTIPLE DISPATCH***</span>✨✨✨"
   ]
  },
  {
   "cell_type": "markdown",
   "metadata": {},
   "source": [
    "Things start to look either wacky or exciting when it comes to *functions*. Look at this:"
   ]
  },
  {
   "cell_type": "code",
   "execution_count": 18,
   "metadata": {},
   "outputs": [
    {
     "data": {
      "text/plain": [
       "3"
      ]
     },
     "metadata": {},
     "output_type": "display_data"
    }
   ],
   "source": [
    "+(1, 2)"
   ]
  },
  {
   "cell_type": "markdown",
   "metadata": {},
   "source": [
    "`+` is the alias of a function provided by off-the-shelf Julia, which is defined only for a few combinations of types such as subtypes of `Real`, *e.g.*, `Int` and `Float` and `Bool` and stuff like that, or `Real` and `Complex`, or `Complex` and `Complex`. What if you create a whole new type and want to `+` objects of that type together?\n",
    "\n",
    "Let's say we have a `Point` type, which is defined as follows:"
   ]
  },
  {
   "cell_type": "code",
   "execution_count": null,
   "metadata": {},
   "outputs": [],
   "source": [
    "mutable struct Point\n",
    "    x::Real # x-coordinate\n",
    "    y::Real # y-coordinate\n",
    "end"
   ]
  },
  {
   "cell_type": "markdown",
   "metadata": {},
   "source": [
    "Now we want to seamlessly add 2 points together using the `+` operator in the same fashion as adding numbers. To do that, you must *overwrite* the `+` operator so that it works with `Point` inputs. The following code does exactly that:"
   ]
  },
  {
   "cell_type": "code",
   "execution_count": 6,
   "metadata": {},
   "outputs": [
    {
     "name": "stdout",
     "output_type": "stream",
     "text": [
      "Point(2.5, 5.5)\n"
     ]
    }
   ],
   "source": [
    "import Base.+ # import this buit-in function before modifying\n",
    "function +(a::Point, b::Point)\n",
    "    return Point(a.x + b.x, a.y + b.y)\n",
    "end\n",
    "\n",
    "a = Point(1, 2.5)\n",
    "b = Point(1.5, 3)\n",
    "println(a + b)"
   ]
  },
  {
   "cell_type": "markdown",
   "metadata": {},
   "source": [
    "Wow, that's so cool, right? Having the ability to modify built-in functions like `+` opens up a host of possibilities (and risks) that are only limited by your imagination. Let's say your imagination entails that a `Point` can also be added with a `Real` number, whereby each coordinate is added with that number. You just, once again, define another `+` function for that behavior: "
   ]
  },
  {
   "cell_type": "code",
   "execution_count": 11,
   "metadata": {},
   "outputs": [
    {
     "name": "stdout",
     "output_type": "stream",
     "text": [
      "Point(2.5, 4.0)\n"
     ]
    }
   ],
   "source": [
    "function +(a::Point, s::Real)\n",
    "    Point(a.x + s, a.y + s)\n",
    "end\n",
    "\n",
    "a = Point(1, 2.5)\n",
    "s = 1.5\n",
    "println(a + s)"
   ]
  },
  {
   "cell_type": "markdown",
   "metadata": {},
   "source": [
    "And you can still `+` 2 `Point`s together after `+` has been modified (or, to be more accurate, extended):"
   ]
  },
  {
   "cell_type": "code",
   "execution_count": 16,
   "metadata": {},
   "outputs": [
    {
     "name": "stdout",
     "output_type": "stream",
     "text": [
      "Point(5.5, 10)\n"
     ]
    }
   ],
   "source": [
    "c = Point(3, 4)\n",
    "d = Point(2.5, 6)\n",
    "println(c + d)"
   ]
  },
  {
   "cell_type": "markdown",
   "metadata": {},
   "source": [
    "This ability of defining multiple functions with the same name (or, you can say, endowing a function with many different behaviors) is called **multiple dispatch**. And it's a very big deal in Julia, since the language was basically built around a paradigm that is called--you guessed it--**multiple dispatch**. \n",
    "\n",
    "I'm gonna capitalize, italicize, bold that term, and then color it in violet, and then decorate it with some sparkles, to give you a sense of how important it is:\n",
    "\n",
    "✨✨✨<span style=\"color:violet\">***MULTIPLE DISPATCH***</span>✨✨✨\n",
    "\n",
    "Why is it so important? Because it implements this whole idea of Julia being a language for math and science and data: instead of modelling objects and their individual characteristics and abilities (like in OOP languages), Julia programmers model *relationships*. So instead of modelling, for instance, all the nuts and bolts and behaviors of a `Point` object (including the various functions by which it is `+`ed with other objects), we model how `Point`s are related to other types by defining relationships such as that represented by `+`. Functions are now first-class citizens, they become **polymorphic**, and each of their variants, which is called a **method**, map a set of **types** to a return value. This also partially explains the complicated type system that we briefly looked at in Tutorial 1: there are many types of numbers with all sorts of hierarchies because they interact in complicated ways in terms of both math and data structure.\n",
    "\n",
    "We will get back to this idea in the next tutorial. Right now, we can just run away with the impression that multiple dispatch == one function having multiple methods, and that it's a big deal in terms of language design.\n",
    "\n",
    "A small note: although you've mostly seen functions whose argument types are defined, you can always build those that accept arguments whose typed are not defined until runtime, such as a function that accepts a pair of any types as long as their exists a `+` method for them."
   ]
  },
  {
   "cell_type": "markdown",
   "metadata": {},
   "source": [
    "### 2.2. Pass-by-sharing\n",
    "\n",
    "In Julia, arguments are passed into methods by sharing. This may sound unfamiliar, but that's just a way of saying that it is similar to what happens in Python and JavaScript. Consider this function:"
   ]
  },
  {
   "cell_type": "code",
   "execution_count": 15,
   "metadata": {},
   "outputs": [
    {
     "name": "stdout",
     "output_type": "stream",
     "text": [
      "(x=1, y=2.5)\n"
     ]
    }
   ],
   "source": [
    "function printpoint(point::Point)\n",
    "    println(\"(x=\", point.x, \", y=\", point.y, \")\")\n",
    "end\n",
    "\n",
    "a = Point(1, 2.5)\n",
    "printpoint(a)"
   ]
  },
  {
   "cell_type": "markdown",
   "metadata": {},
   "source": [
    "When the name/variable `a` is passed in to `printpoint`, the address which `a` points at is now also pointed by the name/variable `point` that exists only within the scope of the function. \"Sharing\" in \"pass-by-sharing\" now means that at some point during execution, there are at least 2 names that share the job of pointing at a single value."
   ]
  },
  {
   "cell_type": "markdown",
   "metadata": {},
   "source": [
    "### 2.3. Keyword arguments"
   ]
  },
  {
   "cell_type": "markdown",
   "metadata": {},
   "source": [
    "Imagine that upon defining a function, you realize that it has too many arguments. While multiple dispatch, *i.e.* defining different methods of that function so that each only work with a subset of arguments, might sometimes help, usually you just cannot help but keep them all. And that becomes a nightmare whenever you need to use that function, because you will forget the order of the arguments.\n",
    "\n",
    "That's when keyword arguments are absolutely necessary. A function can accept regular arguments and keyword arguments at the same time using this syntax:\n",
    "\n",
    "```\n",
    "function f(args; kwarg1, kwarg2)\n",
    "```\n",
    "\n",
    "When you define that function using only keyword arguments,\n",
    "\n",
    "```\n",
    "function f(; kwarg1, kwarg2)\n",
    "```\n",
    "\n",
    "Here's an example where a function accepts both kinds of arguments:"
   ]
  },
  {
   "cell_type": "code",
   "execution_count": 19,
   "metadata": {},
   "outputs": [
    {
     "name": "stdout",
     "output_type": "stream",
     "text": [
      "after adding 0 to x, 1.5 to y: Point(1, 4.0)\n"
     ]
    }
   ],
   "source": [
    "function add_coords(a::Point; i, j)\n",
    "    x_b = a.x + i\n",
    "    y_b = a.y + j\n",
    "    return Point(x_b, y_b)\n",
    "end\n",
    "\n",
    "a = Point(1, 2.5)\n",
    "b = add_coords(a; j=1.5, i=0)\n",
    "println(\"after adding 0 to x, 1.5 to y: \", b)"
   ]
  },
  {
   "cell_type": "markdown",
   "metadata": {},
   "source": [
    "### 2.4. Methods that modify arguments"
   ]
  },
  {
   "cell_type": "code",
   "execution_count": 4,
   "metadata": {},
   "outputs": [
    {
     "name": "stdout",
     "output_type": "stream",
     "text": [
      "Point(2, 5.0)\n"
     ]
    }
   ],
   "source": [
    "function scalarmul!(a::Point, s::Real)\n",
    "    a.x = a.x * s\n",
    "    a.y = a.y * s\n",
    "end\n",
    "\n",
    "a = Point(1, 2.5)\n",
    "scalarmul!(a, 2)\n",
    "println(a)"
   ]
  },
  {
   "cell_type": "code",
   "execution_count": 9,
   "metadata": {},
   "outputs": [
    {
     "name": "stdout",
     "output_type": "stream",
     "text": [
      "coordinates of a after being doubled: Point(2, 5.0)\n",
      "coordinates of a cut off at low=0, high=1.5: Point(1, 0)\n",
      "coordinates of a highpassed at 1.5: Point(0, 2.5)\n"
     ]
    }
   ],
   "source": [
    "function broadcast(f::Function, a::Point, args...; kwargs...)\n",
    "    x = f(a.x, args...; kwargs...)\n",
    "    y = f(a.y, args...; kwargs...)\n",
    "    Point(x, y)\n",
    "end\n",
    "\n",
    "function cutoff(x; low, high)\n",
    "    low < x < high ? x : 0\n",
    "end\n",
    "\n",
    "highpass = (x, threshold) -> x > threshold ? x : 0\n",
    "\n",
    "a = Point(1, 2.5)\n",
    "a_double = broadcast(*, a, 2)\n",
    "a_cutoff = broadcast(cutoff, a; low=0, high=1.5)\n",
    "a_highpass = broadcast(highpass, a, 1.5)\n",
    "println(\"coordinates of a after being doubled: \", a_double)\n",
    "println(\"coordinates of a cut off at low=0, high=1.5: \", a_cutoff)\n",
    "println(\"coordinates of a highpassed at 1.5: \", a_highpass)"
   ]
  },
  {
   "cell_type": "code",
   "execution_count": 22,
   "metadata": {},
   "outputs": [
    {
     "data": {
      "text/plain": [
       "5.527663643739405"
      ]
     },
     "metadata": {},
     "output_type": "display_data"
    }
   ],
   "source": [
    "function area(a)\n",
    "    return circscribed_circle(a) - equi_triangle(a)\n",
    "end\n",
    "\n",
    "function equi_triangle(a)\n",
    "    return sqrt(3) / 4 * a^2\n",
    "end\n",
    "\n",
    "function circscribed_circle(a)\n",
    "    a^2 * (pi/3) # `return` keyword is optional, so it can be done without\n",
    "end\n",
    "\n",
    "area(3)"
   ]
  },
  {
   "cell_type": "code",
   "execution_count": 25,
   "metadata": {},
   "outputs": [
    {
     "data": {
      "text/plain": [
       "2"
      ]
     },
     "metadata": {},
     "output_type": "display_data"
    }
   ],
   "source": [
    "function fib(n::Int)\n",
    "    n >= 0 || error(\"Input must not be negative.\")\n",
    "    n <= 1 && return n\n",
    "    fib(n-1) + fib(n-2) # does not need the `return` keyword \n",
    "end\n",
    "\n",
    "fib(3)"
   ]
  }
 ],
 "metadata": {
  "interpreter": {
   "hash": "552c4b6d3e6123fddafd53eae3a1ab3a1670dca5f4c90d29b1ed1a01c8181d4f"
  },
  "kernelspec": {
   "display_name": "Julia 1.7.2",
   "language": "julia",
   "name": "julia-1.7"
  },
  "language_info": {
   "file_extension": ".jl",
   "mimetype": "application/julia",
   "name": "julia",
   "version": "1.7.2"
  },
  "orig_nbformat": 4
 },
 "nbformat": 4,
 "nbformat_minor": 2
}
