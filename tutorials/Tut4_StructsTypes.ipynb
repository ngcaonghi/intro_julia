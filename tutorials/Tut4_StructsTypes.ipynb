{
 "cells": [
  {
   "cell_type": "markdown",
   "metadata": {},
   "source": [
    "# Tutorial 4: Structs and (more on) Types\n",
    "\n",
    "We will now dig deeper into the idea of multiple dispatch by seeing how \"objects\" in Julia are defined, constructed, and related to one another. I put \"objects\" in quotation marks because they are not 100% like objects in the sense of Object Oriented Programming (and, sure, you can do OOP in Julia, although it will be quite awkward). Specifically, Julia objects do not have methods of their own; all methods, even constructors, are defined outside of the object definition block, and their scopes are not surrounded by a bigger scope delimited by the object(s) they work with. \n",
    "\n",
    "Before sinking our teeth into the content, I'll clear up some terms (some of which were briefly mentioned in Tutorial 1 but haven't been discussed in detail) and throw in a few tldr notes (as a sneak peek of how Julia is quite different from many popular languages):\n",
    "\n",
    "- **Types** ≈ objects in OOP languages.\n",
    "- There are **abstract types** and **concrete types**.\n",
    "- Types are related to each other by a graph where all non-leaf nodes are abstract types and all leafs are concrete types.\n",
    "- Concrete types cannot be supertypes of any other type. They are final. \n",
    "- Only abstract types are allowed to supertype other types. An abstract type can also can be (and in most cases) is a subtype of another abstract type.\n",
    "- Concrete types are further divided into primitive types and composite types.\n",
    "- Composite types are called `struct`s. A `struct` is either immutable (by default) or mutable.\n"
   ]
  },
  {
   "cell_type": "markdown",
   "metadata": {},
   "source": [
    "## 1. Structs\n",
    "\n",
    "Objects in Julia whose types are composite are defined by the `struct` keyword, so we call such objects \"structs\". A struct consists only of fields that are either primitives or other structs. \n",
    "\n",
    "A `struct` block can be as simple as this:"
   ]
  },
  {
   "cell_type": "code",
   "execution_count": 15,
   "metadata": {},
   "outputs": [
    {
     "name": "stdout",
     "output_type": "stream",
     "text": [
      "a: Singleton('a'), b: Singleton(1)\n"
     ]
    }
   ],
   "source": [
    "struct Singleton\n",
    "    x\n",
    "end\n",
    "\n",
    "# construct Singleton\n",
    "a = Singleton('a')\n",
    "b = Singleton(1)\n",
    "println(\"a: \", a, \", b: \", b)"
   ]
  },
  {
   "cell_type": "markdown",
   "metadata": {},
   "source": [
    "Now suppose you want to define a struct that stores the data of data science students in a college. Each field now needs to be statically typed to prevent human errors. If you want to impose such restrictions on the struct's fields, you can declare the type of each field like this:"
   ]
  },
  {
   "cell_type": "code",
   "execution_count": 1,
   "metadata": {},
   "outputs": [
    {
     "name": "stdout",
     "output_type": "stream",
     "text": [
      "nigel's struct: DataScienceStudent(\"Nigel\", 1, \"Machine Learning\", Dict{AbstractString, AbstractString}(\"Linear Algebra\" => \"A\"), \"Dr. Alpha Waymond\", \"good\")\n"
     ]
    }
   ],
   "source": [
    "let\n",
    "    struct DataScienceStudent\n",
    "        name::AbstractString\n",
    "        id::Int\n",
    "        concentration::AbstractString\n",
    "        transcript::Dict{AbstractString, AbstractString}\n",
    "        advisor::AbstractString\n",
    "        standing::AbstractString\n",
    "    end\n",
    "\n",
    "    nigel = DataScienceStudent(\"Nigel\", # name\n",
    "                               01, # id \n",
    "                               \"Machine Learning\", # concentration\n",
    "                               Dict(\"Linear Algebra\" => \"A\"), # transcript\n",
    "                               \"Dr. Alpha Waymond\", # advisor\n",
    "                               \"good\") # standing\n",
    "    println(\"nigel's struct: \", nigel)\n",
    "end"
   ]
  },
  {
   "cell_type": "markdown",
   "metadata": {},
   "source": [
    "(Note that the code above was wrapped in a `let` block just because we will need to modify the `DataScienceStudent` struct definition later.)\n",
    "\n",
    "Did you notice that the constructor of each struct above does not need explicit definition? With `DataScienceStudent`, for example, its default constructor is just `DataScienceStudent(<Arguments>)`, in which the arguments must be in the same order as that of the fields according to the struct definition. \n",
    "\n",
    "Just like functions, sometimes we want to instantiate a struct using keyword arguments instead of positional ones. Other times, we want the struct to have default values for some of their fields. Multiple dispatch allows us to do so by defining another method for the constructor using keyword arguments and default values. Note that the method should be defined outside of the `struct` block. "
   ]
  },
  {
   "cell_type": "code",
   "execution_count": 2,
   "metadata": {},
   "outputs": [
    {
     "name": "stdout",
     "output_type": "stream",
     "text": [
      "nicole's struct: SoftwareStudent(\"Nicole\", 2, \"Game Design\", Dict{AbstractString, AbstractString}(), \"Dr. Alpha Evelyn\", \"good\")\n"
     ]
    }
   ],
   "source": [
    "let\n",
    "    struct SoftwareStudent\n",
    "        name::AbstractString\n",
    "        id::Int\n",
    "        concentration::AbstractString\n",
    "        transcript::Dict{AbstractString, AbstractString}\n",
    "        advisor::AbstractString\n",
    "        standing::AbstractString\n",
    "    end\n",
    "    \n",
    "    # external constructor\n",
    "    function SoftwareStudent(; name, id, concentration, \n",
    "                               transcript=Dict{AbstractString, AbstractString}())\n",
    "        # name, id, concentration, and transcript are now passed as \n",
    "        # keywords args.\n",
    "        # transcript is assigned to an empty Dict by default.\n",
    "        # other fields are automatically filled in.\n",
    "        SoftwareStudent(name, id, concentration, transcript, \"Dr. Alpha Evelyn\", \"good\")\n",
    "    end\n",
    "\n",
    "    nicole = SoftwareStudent(id=02, name=\"Nicole\", concentration=\"Game Design\")\n",
    "    println(\"nicole's struct: \", nicole)\n",
    "end"
   ]
  },
  {
   "cell_type": "markdown",
   "metadata": {},
   "source": [
    "## 2. Abstract types"
   ]
  },
  {
   "cell_type": "markdown",
   "metadata": {},
   "source": [
    "We've familarized ourselves with concrete types, but how about abstract types? Below are some abstract types defined using the keyword `abstract type`; as you can see, they can be subtypes and supertypes of one another. The symbol `<:` reads \"is a subtype of\"."
   ]
  },
  {
   "cell_type": "code",
   "execution_count": 17,
   "metadata": {},
   "outputs": [],
   "source": [
    "abstract type Student end\n",
    "abstract type ClassOf23 <: Student end # ClassOf23 is a subtype of Student\n",
    "abstract type CS23 <: ClassOf23 end # CS23 is a subtype of ClassOf23\n",
    "abstract type Art23 <: ClassOf23 end # Art23 is a subtype of ClassOf23"
   ]
  },
  {
   "cell_type": "markdown",
   "metadata": {},
   "source": [
    "But what are they good for? You might have guessed something along the line of inheritance. Well, *yesn't*: in Julia, subtypes do not inherit the structures of their supertypes; they only inherit the behaviors defined by methods that accept their supertypes. For example, look at the code below:"
   ]
  },
  {
   "cell_type": "code",
   "execution_count": 21,
   "metadata": {},
   "outputs": [
    {
     "data": {
      "text/plain": [
       "\"Building B\""
      ]
     },
     "metadata": {},
     "output_type": "display_data"
    }
   ],
   "source": [
    "# Concrete types that inherit CS23\n",
    "\n",
    "struct DataScienceStudent <: CS23\n",
    "    name::AbstractString\n",
    "    id::Int\n",
    "    concentration::AbstractString\n",
    "    transcript::Dict{AbstractString, AbstractString}\n",
    "    advisor::AbstractString\n",
    "    standing::AbstractString\n",
    "end\n",
    "\n",
    "struct SoftwareStudent <: CS23\n",
    "    name::AbstractString\n",
    "    id::Int\n",
    "    concentration::AbstractString\n",
    "    transcript::Dict{AbstractString, AbstractString}\n",
    "    advisor::AbstractString\n",
    "    standing::AbstractString\n",
    "end\n",
    "\n",
    "function SoftwareStudent(; name, id, concentration, \n",
    "    transcript=Dict{AbstractString,AbstractString}())\n",
    "SoftwareStudent(name, id, concentration, transcript, \"Dr. Alpha Evelyn\", \"good\")\n",
    "end\n",
    "\n",
    "# ==============================================================================\n",
    "\n",
    "# Concrete type that inherits Art23\n",
    "\n",
    "struct FineArtStudent <: Art23\n",
    "    name::AbstractString\n",
    "    id::Int\n",
    "    concentration::AbstractString\n",
    "    transcript::Dict{AbstractString, AbstractString}\n",
    "    advisor::AbstractString\n",
    "    standing::AbstractString\n",
    "end\n",
    "\n",
    "function FineArtStudent(; name, id, concentration, \n",
    "    transcript=Dict{AbstractString,AbstractString}())\n",
    "FineArtStudent(name, id, concentration, transcript, \"Dr. Alpha Gong Gong\", \"good\")\n",
    "end\n",
    "\n",
    "# ==============================================================================\n",
    "# A function whose method is defined for inputs that are subtypes of `Art23`\n",
    "# and `CS23`:\n",
    "\n",
    "function dorm_building(; artstudent::Art23, csstudent::CS23)\n",
    "    if (typeof(artstudent) == FineArtStudent \n",
    "     && typeof(csstudent) == DataScienceStudent)\n",
    "        return \"Building A\"\n",
    "    end\n",
    "    return \"Building B\"\n",
    "end\n",
    "\n",
    "# =============================================================================\n",
    "# Demo:\n",
    "\n",
    "nicole = SoftwareStudent(name=\"Nicole\", id=02, concentration=\"Game Design\")\n",
    "natasha = FineArtStudent(name=\"Natasha\", id=04, concentration=\"Sculpture\")\n",
    "dorm_building(artstudent=natasha, csstudent=nicole)"
   ]
  },
  {
   "cell_type": "markdown",
   "metadata": {},
   "source": [
    "Wow, let's slow down and unpack each code block above. First, we define `DataScienceStudent` and `SoftwareStudent` as subtypes of `CS23` (because they both belong to the computer science department of a college). We also defined `FineArtStudent` as a subtype of `Art23`. Then we defined a function called `dorm_building` that does a pretty weird thing: assign a pair of roommates to a dorm building based on their majors. `dorm_building` now only has 1 method that accepts one student from the art department and another from the CS department, which puts all of them in Building B unless one of them studies fine art and the other data science (told you it was weird). Type abstraction allows defining only one method for that task: we do not have to write a dozen other methods to deal with every pair of majors chosen from the art and the CS departments.\n",
    "\n",
    "You might have noticed that because Julia does not allow structure inheritance, everytime we defined a subtype (namely `DataScienceStudent` and `SoftwareStudent`), we had to copy-paste the fields from this subtype to another. This is restrictive and somewhat annoying, but Julia designers said there were [very good reasons to make it this way](https://docs.julialang.org/en/v1/manual/types/) (although I am not experienced enough to be entirely convinced)."
   ]
  },
  {
   "cell_type": "markdown",
   "metadata": {},
   "source": [
    "## 3. Parameterization\n",
    "\n"
   ]
  },
  {
   "cell_type": "markdown",
   "metadata": {},
   "source": [
    "With Java and many languages that are stingy about memory, you might sometimes come across *parameterization* in the syntactic form of `<Type>{<AnotherType>, <AnotherType>, <AndSoON>}`. Parameterization is one way to strike a balance between being very strict about the type of a field (as in demanding that a field `x` must be `Int64`, for instance) and being very unclear about what types are allowed. It also helps with knowing which method implementation goes with which parameters--think of the differences in implementation and memory between `Array{Bool}`, `Array{String}`, and `Array{DataScienceStudent}`.\n",
    "\n",
    "To demonstrate the first point, look at the example below. By defining only one parametric type `CrossConcentrationBuddy{Student}`, we have also defined a host of other types like `CrossMajorBuddy{ClassOf23}`\n",
    "and `CrossMajorBuddy{CS23}`."
   ]
  },
  {
   "cell_type": "code",
   "execution_count": 6,
   "metadata": {},
   "outputs": [
    {
     "name": "stdout",
     "output_type": "stream",
     "text": [
      "CrossConcentrationBuddy{ClassOf23}(DataScienceStudent(\"Nigel\", 1, \"Machine Learning\", Dict{AbstractString, AbstractString}(\"Linear Algebra\" => \"A\"), \"Dr. Alpha Waymond\", \"good\"), SoftwareStudent(\"Nicole\", 2, \"Game Design\", Dict{AbstractString, AbstractString}(), \"Dr. Alpha Evelyn\", \"good\"))\n"
     ]
    }
   ],
   "source": [
    "let\n",
    "    abstract type Buddy{Student} end # `Buddy` now takes `Student` as a parameter\n",
    "\n",
    "    # by declaring CrossConcentrationBuddy{Student}, \n",
    "    # CrossConcentrationBuddy{ClassOf23} and CrossConcentrationBuddy{CS23} \n",
    "    # can now be declared using the same constructor.\n",
    "    struct CrossConcentrationBuddy{Student} <: Buddy{Student}\n",
    "        stuA::Student \n",
    "        stuB::Student\n",
    "    end\n",
    "\n",
    "    nigel = DataScienceStudent(\"Nigel\",\n",
    "                               01,\n",
    "                               \"Machine Learning\",\n",
    "                               Dict(\"Linear Algebra\" => \"A\"),\n",
    "                               \"Dr. Alpha Waymond\",\n",
    "                               \"good\")\n",
    "\n",
    "    nicole = SoftwareStudent(id=02, name=\"Nicole\", concentration=\"Game Design\")\n",
    "\n",
    "    buddies = CrossConcentrationBuddy{ClassOf23}(nigel, nicole) \n",
    "    # see the `ClassOf23`?\n",
    "    \n",
    "    println(buddies)\n",
    "end "
   ]
  },
  {
   "cell_type": "markdown",
   "metadata": {},
   "source": [
    "## 4. Inner constructor\n",
    "\n",
    "But what we really want to do with `CrossConcentrationBuddy` is to pair 2 students whose concentrations are different. If they are the same, we want to disallow it by throwing an error. In that case, declaring a constructor inside the `struct` block serves to impose that restriction on all constructors that might be defined by multiple dispatch."
   ]
  },
  {
   "cell_type": "code",
   "execution_count": 14,
   "metadata": {},
   "outputs": [
    {
     "ename": "ArgumentError",
     "evalue": "ArgumentError: Students must have different concentrations!",
     "output_type": "error",
     "traceback": [
      "ArgumentError: Students must have different concentrations!\n",
      "\n",
      "Stacktrace:\n",
      "  [1] CrossConcentrationBuddy{Student}(stuA::SoftwareStudent, stuB::SoftwareStudent)\n",
      "    @ Main ~/Documents/intro_julia/tutorials/Tut4_StructsTypes.ipynb:12\n",
      "  [2] top-level scope\n",
      "    @ ~/Documents/intro_julia/tutorials/Tut4_StructsTypes.ipynb:22\n",
      "  [3] eval\n",
      "    @ ./boot.jl:373 [inlined]\n",
      "  [4] include_string(mapexpr::typeof(REPL.softscope), mod::Module, code::String, filename::String)\n",
      "    @ Base ./loading.jl:1196\n",
      "  [5] #invokelatest#2\n",
      "    @ ./essentials.jl:716 [inlined]\n",
      "  [6] invokelatest\n",
      "    @ ./essentials.jl:714 [inlined]\n",
      "  [7] (::VSCodeServer.var\"#164#165\"{VSCodeServer.NotebookRunCellArguments, String})()\n",
      "    @ VSCodeServer ~/.vscode/extensions/julialang.language-julia-1.6.17/scripts/packages/VSCodeServer/src/serve_notebook.jl:19\n",
      "  [8] withpath(f::VSCodeServer.var\"#164#165\"{VSCodeServer.NotebookRunCellArguments, String}, path::String)\n",
      "    @ VSCodeServer ~/.vscode/extensions/julialang.language-julia-1.6.17/scripts/packages/VSCodeServer/src/repl.jl:184\n",
      "  [9] notebook_runcell_request(conn::VSCodeServer.JSONRPC.JSONRPCEndpoint{Base.PipeEndpoint, Base.PipeEndpoint}, params::VSCodeServer.NotebookRunCellArguments)\n",
      "    @ VSCodeServer ~/.vscode/extensions/julialang.language-julia-1.6.17/scripts/packages/VSCodeServer/src/serve_notebook.jl:13\n",
      " [10] dispatch_msg(x::VSCodeServer.JSONRPC.JSONRPCEndpoint{Base.PipeEndpoint, Base.PipeEndpoint}, dispatcher::VSCodeServer.JSONRPC.MsgDispatcher, msg::Dict{String, Any})\n",
      "    @ VSCodeServer.JSONRPC ~/.vscode/extensions/julialang.language-julia-1.6.17/scripts/packages/JSONRPC/src/typed.jl:67\n",
      " [11] serve_notebook(pipename::String, outputchannel_logger::Base.CoreLogging.SimpleLogger; crashreporting_pipename::String)\n",
      "    @ VSCodeServer ~/.vscode/extensions/julialang.language-julia-1.6.17/scripts/packages/VSCodeServer/src/serve_notebook.jl:136\n",
      " [12] top-level scope\n",
      "    @ ~/.vscode/extensions/julialang.language-julia-1.6.17/scripts/notebook/notebook.jl:32\n",
      " [13] include(mod::Module, _path::String)\n",
      "    @ Base ./Base.jl:418\n",
      " [14] exec_options(opts::Base.JLOptions)\n",
      "    @ Base ./client.jl:292\n",
      " [15] _start()\n",
      "    @ Base ./client.jl:495"
     ]
    }
   ],
   "source": [
    "let\n",
    "\n",
    "abstract type Buddy{Student} end\n",
    "struct CrossConcentrationBuddy{Student} <: Buddy{Student}\n",
    "    stuA::Student\n",
    "    stuB::Student\n",
    "\n",
    "    # inner constructors are used whenever there needs to be a restriction\n",
    "    # on what arguments are allowed to passed in.\n",
    "    function CrossConcentrationBuddy{Student}(stuA, stuB)\n",
    "        if stuA.concentration == stuB.concentration\n",
    "            throw(ArgumentError(\"Students must have different concentrations!\"))\n",
    "        end\n",
    "        new(stuA, stuB)\n",
    "    end\n",
    "end\n",
    "\n",
    "nicole = SoftwareStudent(id=02, name=\"Nicole\", concentration=\"Game Design\")\n",
    "natalie = SoftwareStudent(id=03, name=\"Nicole\", concentration=\"Game Design\")\n",
    "\n",
    "# this pair cannot be formed because the 2 students share a concentration\n",
    "buddies_2 = CrossConcentrationBuddy{Student}(natalie, nicole)\n",
    "println(buddies_2)\n",
    "\n",
    "end"
   ]
  },
  {
   "cell_type": "markdown",
   "metadata": {},
   "source": [
    "## 5. `Base.show` and other predefined, standard methods\n",
    "\n",
    "If you're used to OOP, you might be curious of standard methods that come along with all objects. For instance, in Python every object comes with a `__str__()` and a `__repr__()` for free, while in Java it's `toString()`. \n",
    "\n",
    "In Julia, the equivalent of such methods is\n",
    "\n",
    "```\n",
    "Base.show(io::IO, ::MIME\"text/plain\", ::Vector{MyType}) = println(\"new representation\")\n",
    "```\n",
    "which looks pretty scary. Unfortunately, similar standard methods that are usually taken for granted in Python and Java are not easy to find in Julia (in Python, you just run `dir(x)`, and every method that comes with `x` is shown). And they do not always come from the same module such as `Base`!"
   ]
  }
 ],
 "metadata": {
  "interpreter": {
   "hash": "b0fa6594d8f4cbf19f97940f81e996739fb7646882a419484c72d19e05852a7e"
  },
  "kernelspec": {
   "display_name": "Julia 1.7.2",
   "language": "julia",
   "name": "julia-1.7"
  },
  "language_info": {
   "file_extension": ".jl",
   "mimetype": "application/julia",
   "name": "julia",
   "version": "1.7.2"
  },
  "orig_nbformat": 4
 },
 "nbformat": 4,
 "nbformat_minor": 2
}
