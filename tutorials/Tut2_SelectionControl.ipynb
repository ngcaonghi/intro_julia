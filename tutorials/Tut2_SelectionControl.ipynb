{
 "cells": [
  {
   "cell_type": "markdown",
   "metadata": {},
   "source": [
    "# Tutorial 2: Selection Control Structures in Julia\n",
    "\n",
    "Conditional statements and logical operations in Julia work very similarly to popular languages you might have used or come across, such as Python and C++, with commonly expected behaviors like precedence and shortcircuiting, as well as syntactic sugars like shorthand `if`s and ternary statements. "
   ]
  },
  {
   "cell_type": "markdown",
   "metadata": {},
   "source": [
    "## 1. Conditional Statements\n",
    "\n",
    "Like all code block structures in Julia, each `if-elseif-else` block starts with a keyword—`if` in this case—followed by a condition, statements that are executed when the condition is met, ocassionally a few other things in between, and finally ends with `end`.  The \"few other things in between\" are namely cascading else-ifs statements starting witn `elseif` and else statements starting with `else`.\n",
    "\n",
    "Unlike many languages, Julia does not support `switch-case` structures. So if you really want something similar, you can use the cascading `if-elseif-else` structure instead.\n",
    "\n",
    "The code below demonstrates how an `if-elseif-else` block is used within a function block. Note that conditional statements (like `x<y`) do not need to be put in parantheses."
   ]
  },
  {
   "cell_type": "code",
   "execution_count": 15,
   "metadata": {},
   "outputs": [
    {
     "name": "stdout",
     "output_type": "stream",
     "text": [
      "1 < 2\n"
     ]
    }
   ],
   "source": [
    "function compare(x, y)\n",
    "    if x < y\n",
    "        println(x, \" < \", y)\n",
    "    elseif x > y\n",
    "        println(x, \" > \", y)\n",
    "    else\n",
    "        println(x, \" = \", y)\n",
    "    end\n",
    "end\n",
    "\n",
    "compare(1, 2)"
   ]
  },
  {
   "cell_type": "markdown",
   "metadata": {},
   "source": [
    "So what can you use as a condition? A comparison is certainly one thing, as demonstrated above. Julia supports the following comparison operators:\n",
    "\n",
    "| Operator | Name |\n",
    "|---|---|\n",
    "| `==`  | equality | \n",
    "| `===` | egality |\n",
    "| `!=`, `≠`| inequality |\n",
    "|`!==`| non-egality |\n",
    "| `<` | less than |\n",
    "| `<=`, `≤` | less than or equal to |\n",
    "| `>` | greater than |\n",
    "| `>=`, `≥` | greater than or equal to |"
   ]
  },
  {
   "cell_type": "markdown",
   "metadata": {},
   "source": [
    "Julia supports chained comparison operations, such as `0 <= x <= 9`:"
   ]
  },
  {
   "cell_type": "code",
   "execution_count": 3,
   "metadata": {},
   "outputs": [
    {
     "name": "stdout",
     "output_type": "stream",
     "text": [
      "9 is a digit\n",
      "9.5 is not a digit\n",
      "10 is not a digit\n"
     ]
    }
   ],
   "source": [
    "function isdigit(x::Int)\n",
    "    if 0 <= x <= 9\n",
    "        println(x, \" is a digit\")\n",
    "    else\n",
    "        println(x, \" is not a digit\")\n",
    "    end\n",
    "end\n",
    "\n",
    "isdigit(9)\n",
    "isdigit(9.5)\n",
    "isdigit(10)"
   ]
  },
  {
   "cell_type": "markdown",
   "metadata": {},
   "source": [
    "What else can you put in a conditional statement? In general, anything—and only the things—that return `true` or `false`. For instance, the following code is legal:"
   ]
  },
  {
   "cell_type": "code",
   "execution_count": 1,
   "metadata": {},
   "outputs": [
    {
     "name": "stdout",
     "output_type": "stream",
     "text": [
      "this code is legal.\n"
     ]
    }
   ],
   "source": [
    "function alwaystrue()\n",
    "    return true\n",
    "end\n",
    "\n",
    "if alwaystrue()\n",
    "    println(\"this code is legal.\")\n",
    "else\n",
    "    println(\"the condition is always satisfied, so this line will not be printed.\")\n",
    "end"
   ]
  },
  {
   "cell_type": "markdown",
   "metadata": {},
   "source": [
    "The following code is illegal because `1` cannot be evaluated to `true` or `false` (unlike languages like Python where `0` is `False` and all other integers are `True`)."
   ]
  },
  {
   "cell_type": "code",
   "execution_count": 2,
   "metadata": {},
   "outputs": [
    {
     "ename": "TypeError",
     "evalue": "TypeError: non-boolean (Int64) used in boolean context",
     "output_type": "error",
     "traceback": [
      "TypeError: non-boolean (Int64) used in boolean context\n",
      "\n",
      "Stacktrace:\n",
      "  [1] top-level scope\n",
      "    @ ~/Documents/intro_julia/tutorials/Tut2_SelectionControl.ipynb:1\n",
      "  [2] eval\n",
      "    @ ./boot.jl:373 [inlined]\n",
      "  [3] include_string(mapexpr::typeof(REPL.softscope), mod::Module, code::String, filename::String)\n",
      "    @ Base ./loading.jl:1196\n",
      "  [4] #invokelatest#2\n",
      "    @ ./essentials.jl:716 [inlined]\n",
      "  [5] invokelatest\n",
      "    @ ./essentials.jl:714 [inlined]\n",
      "  [6] (::VSCodeServer.var\"#164#165\"{VSCodeServer.NotebookRunCellArguments, String})()\n",
      "    @ VSCodeServer ~/.vscode/extensions/julialang.language-julia-1.6.17/scripts/packages/VSCodeServer/src/serve_notebook.jl:19\n",
      "  [7] withpath(f::VSCodeServer.var\"#164#165\"{VSCodeServer.NotebookRunCellArguments, String}, path::String)\n",
      "    @ VSCodeServer ~/.vscode/extensions/julialang.language-julia-1.6.17/scripts/packages/VSCodeServer/src/repl.jl:184\n",
      "  [8] notebook_runcell_request(conn::VSCodeServer.JSONRPC.JSONRPCEndpoint{Base.PipeEndpoint, Base.PipeEndpoint}, params::VSCodeServer.NotebookRunCellArguments)\n",
      "    @ VSCodeServer ~/.vscode/extensions/julialang.language-julia-1.6.17/scripts/packages/VSCodeServer/src/serve_notebook.jl:13\n",
      "  [9] dispatch_msg(x::VSCodeServer.JSONRPC.JSONRPCEndpoint{Base.PipeEndpoint, Base.PipeEndpoint}, dispatcher::VSCodeServer.JSONRPC.MsgDispatcher, msg::Dict{String, Any})\n",
      "    @ VSCodeServer.JSONRPC ~/.vscode/extensions/julialang.language-julia-1.6.17/scripts/packages/JSONRPC/src/typed.jl:67\n",
      " [10] serve_notebook(pipename::String, outputchannel_logger::Base.CoreLogging.SimpleLogger; crashreporting_pipename::String)\n",
      "    @ VSCodeServer ~/.vscode/extensions/julialang.language-julia-1.6.17/scripts/packages/VSCodeServer/src/serve_notebook.jl:136\n",
      " [11] top-level scope\n",
      "    @ ~/.vscode/extensions/julialang.language-julia-1.6.17/scripts/notebook/notebook.jl:32\n",
      " [12] include(mod::Module, _path::String)\n",
      "    @ Base ./Base.jl:418\n",
      " [13] exec_options(opts::Base.JLOptions)\n",
      "    @ Base ./client.jl:292\n",
      " [14] _start()\n",
      "    @ Base ./client.jl:495"
     ]
    }
   ],
   "source": [
    "if 1\n",
    "    println(\"this code is illegal because 1 cannot be evaluated to true\")\n",
    "end"
   ]
  },
  {
   "cell_type": "markdown",
   "metadata": {},
   "source": [
    "One way to get around this incommensurability is using `convert`:"
   ]
  },
  {
   "cell_type": "code",
   "execution_count": 8,
   "metadata": {},
   "outputs": [
    {
     "name": "stdout",
     "output_type": "stream",
     "text": [
      "this code is legal because 1 has been converted to boolean `true`.\n"
     ]
    }
   ],
   "source": [
    "if convert(Bool, 1)\n",
    "    println(\"this code is legal because 1 has been converted to boolean `true`.\")\n",
    "end"
   ]
  },
  {
   "cell_type": "markdown",
   "metadata": {},
   "source": [
    "However, not all types can be converted into `Bool` (simply because `convert` has not been implemented to do it yet--you might have to do it on your own)."
   ]
  },
  {
   "cell_type": "code",
   "execution_count": 9,
   "metadata": {},
   "outputs": [
    {
     "ename": "MethodError",
     "evalue": "MethodError: Cannot `convert` an object of type String to an object of type Bool\nClosest candidates are:\n  convert(::Type{T}, !Matched::Ptr) where T<:Integer at /Applications/Julia-1.7.app/Contents/Resources/julia/share/julia/base/pointer.jl:23\n  convert(::Type{T}, !Matched::T) where T<:Number at /Applications/Julia-1.7.app/Contents/Resources/julia/share/julia/base/number.jl:6\n  convert(::Type{T}, !Matched::Number) where T<:Number at /Applications/Julia-1.7.app/Contents/Resources/julia/share/julia/base/number.jl:7\n  ...",
     "output_type": "error",
     "traceback": [
      "MethodError: Cannot `convert` an object of type String to an object of type Bool\n",
      "Closest candidates are:\n",
      "  convert(::Type{T}, !Matched::Ptr) where T<:Integer at /Applications/Julia-1.7.app/Contents/Resources/julia/share/julia/base/pointer.jl:23\n",
      "  convert(::Type{T}, !Matched::T) where T<:Number at /Applications/Julia-1.7.app/Contents/Resources/julia/share/julia/base/number.jl:6\n",
      "  convert(::Type{T}, !Matched::Number) where T<:Number at /Applications/Julia-1.7.app/Contents/Resources/julia/share/julia/base/number.jl:7\n",
      "  ...\n",
      "\n",
      "Stacktrace:\n",
      "  [1] top-level scope\n",
      "    @ ~/Documents/intro_julia/tutorials/Tut2_SelectionControl.ipynb:1\n",
      "  [2] eval\n",
      "    @ ./boot.jl:373 [inlined]\n",
      "  [3] include_string(mapexpr::typeof(REPL.softscope), mod::Module, code::String, filename::String)\n",
      "    @ Base ./loading.jl:1196\n",
      "  [4] #invokelatest#2\n",
      "    @ ./essentials.jl:716 [inlined]\n",
      "  [5] invokelatest\n",
      "    @ ./essentials.jl:714 [inlined]\n",
      "  [6] (::VSCodeServer.var\"#164#165\"{VSCodeServer.NotebookRunCellArguments, String})()\n",
      "    @ VSCodeServer ~/.vscode/extensions/julialang.language-julia-1.6.17/scripts/packages/VSCodeServer/src/serve_notebook.jl:19\n",
      "  [7] withpath(f::VSCodeServer.var\"#164#165\"{VSCodeServer.NotebookRunCellArguments, String}, path::String)\n",
      "    @ VSCodeServer ~/.vscode/extensions/julialang.language-julia-1.6.17/scripts/packages/VSCodeServer/src/repl.jl:184\n",
      "  [8] notebook_runcell_request(conn::VSCodeServer.JSONRPC.JSONRPCEndpoint{Base.PipeEndpoint, Base.PipeEndpoint}, params::VSCodeServer.NotebookRunCellArguments)\n",
      "    @ VSCodeServer ~/.vscode/extensions/julialang.language-julia-1.6.17/scripts/packages/VSCodeServer/src/serve_notebook.jl:13\n",
      "  [9] dispatch_msg(x::VSCodeServer.JSONRPC.JSONRPCEndpoint{Base.PipeEndpoint, Base.PipeEndpoint}, dispatcher::VSCodeServer.JSONRPC.MsgDispatcher, msg::Dict{String, Any})\n",
      "    @ VSCodeServer.JSONRPC ~/.vscode/extensions/julialang.language-julia-1.6.17/scripts/packages/JSONRPC/src/typed.jl:67\n",
      " [10] serve_notebook(pipename::String, outputchannel_logger::Base.CoreLogging.SimpleLogger; crashreporting_pipename::String)\n",
      "    @ VSCodeServer ~/.vscode/extensions/julialang.language-julia-1.6.17/scripts/packages/VSCodeServer/src/serve_notebook.jl:136\n",
      " [11] top-level scope\n",
      "    @ ~/.vscode/extensions/julialang.language-julia-1.6.17/scripts/notebook/notebook.jl:32\n",
      " [12] include(mod::Module, _path::String)\n",
      "    @ Base ./Base.jl:418\n",
      " [13] exec_options(opts::Base.JLOptions)\n",
      "    @ Base ./client.jl:292\n",
      " [14] _start()\n",
      "    @ Base ./client.jl:495"
     ]
    }
   ],
   "source": [
    "if convert(Bool, \"nonempty\")\n",
    "    println(\"this code is illegal because strings cannot be converted to boolean.\")\n",
    "end"
   ]
  },
  {
   "cell_type": "code",
   "execution_count": 12,
   "metadata": {},
   "outputs": [
    {
     "ename": "MethodError",
     "evalue": "MethodError: Cannot `convert` an object of type Nothing to an object of type Bool\nClosest candidates are:\n  convert(::Type{T}, !Matched::Ptr) where T<:Integer at /Applications/Julia-1.7.app/Contents/Resources/julia/share/julia/base/pointer.jl:23\n  convert(::Type{T}, !Matched::T) where T<:Number at /Applications/Julia-1.7.app/Contents/Resources/julia/share/julia/base/number.jl:6\n  convert(::Type{T}, !Matched::Number) where T<:Number at /Applications/Julia-1.7.app/Contents/Resources/julia/share/julia/base/number.jl:7\n  ...",
     "output_type": "error",
     "traceback": [
      "MethodError: Cannot `convert` an object of type Nothing to an object of type Bool\n",
      "Closest candidates are:\n",
      "  convert(::Type{T}, !Matched::Ptr) where T<:Integer at /Applications/Julia-1.7.app/Contents/Resources/julia/share/julia/base/pointer.jl:23\n",
      "  convert(::Type{T}, !Matched::T) where T<:Number at /Applications/Julia-1.7.app/Contents/Resources/julia/share/julia/base/number.jl:6\n",
      "  convert(::Type{T}, !Matched::Number) where T<:Number at /Applications/Julia-1.7.app/Contents/Resources/julia/share/julia/base/number.jl:7\n",
      "  ...\n",
      "\n",
      "Stacktrace:\n",
      "  [1] top-level scope\n",
      "    @ ~/Documents/intro_julia/tutorials/Tut2_SelectionControl.ipynb:1\n",
      "  [2] eval\n",
      "    @ ./boot.jl:373 [inlined]\n",
      "  [3] include_string(mapexpr::typeof(REPL.softscope), mod::Module, code::String, filename::String)\n",
      "    @ Base ./loading.jl:1196\n",
      "  [4] #invokelatest#2\n",
      "    @ ./essentials.jl:716 [inlined]\n",
      "  [5] invokelatest\n",
      "    @ ./essentials.jl:714 [inlined]\n",
      "  [6] (::VSCodeServer.var\"#164#165\"{VSCodeServer.NotebookRunCellArguments, String})()\n",
      "    @ VSCodeServer ~/.vscode/extensions/julialang.language-julia-1.6.17/scripts/packages/VSCodeServer/src/serve_notebook.jl:19\n",
      "  [7] withpath(f::VSCodeServer.var\"#164#165\"{VSCodeServer.NotebookRunCellArguments, String}, path::String)\n",
      "    @ VSCodeServer ~/.vscode/extensions/julialang.language-julia-1.6.17/scripts/packages/VSCodeServer/src/repl.jl:184\n",
      "  [8] notebook_runcell_request(conn::VSCodeServer.JSONRPC.JSONRPCEndpoint{Base.PipeEndpoint, Base.PipeEndpoint}, params::VSCodeServer.NotebookRunCellArguments)\n",
      "    @ VSCodeServer ~/.vscode/extensions/julialang.language-julia-1.6.17/scripts/packages/VSCodeServer/src/serve_notebook.jl:13\n",
      "  [9] dispatch_msg(x::VSCodeServer.JSONRPC.JSONRPCEndpoint{Base.PipeEndpoint, Base.PipeEndpoint}, dispatcher::VSCodeServer.JSONRPC.MsgDispatcher, msg::Dict{String, Any})\n",
      "    @ VSCodeServer.JSONRPC ~/.vscode/extensions/julialang.language-julia-1.6.17/scripts/packages/JSONRPC/src/typed.jl:67\n",
      " [10] serve_notebook(pipename::String, outputchannel_logger::Base.CoreLogging.SimpleLogger; crashreporting_pipename::String)\n",
      "    @ VSCodeServer ~/.vscode/extensions/julialang.language-julia-1.6.17/scripts/packages/VSCodeServer/src/serve_notebook.jl:136\n",
      " [11] top-level scope\n",
      "    @ ~/.vscode/extensions/julialang.language-julia-1.6.17/scripts/notebook/notebook.jl:32\n",
      " [12] include(mod::Module, _path::String)\n",
      "    @ Base ./Base.jl:418\n",
      " [13] exec_options(opts::Base.JLOptions)\n",
      "    @ Base ./client.jl:292\n",
      " [14] _start()\n",
      "    @ Base ./client.jl:495"
     ]
    }
   ],
   "source": [
    "if convert(Bool, nothing)\n",
    "    println(\"this code is illegal because Nothing cannot be converted to boolean.\")\n",
    "end"
   ]
  },
  {
   "cell_type": "markdown",
   "metadata": {},
   "source": [
    "## 2. Short Circuiting"
   ]
  },
  {
   "cell_type": "markdown",
   "metadata": {},
   "source": [
    "Short circuiting is a common behavior in many languages where if a logical expression contains sub-expressions, the truth value of the whole expression is obtained without having to evaluate all sub-expressions. You can read more about this [here](https://www.geeksforgeeks.org/short-circuit-evaluation-in-programming/#:~:text=Short%2DCircuit%20Evaluation%3A%20Short%2D,of%20the%20expression%20is%20determined.).\n",
    "\n",
    "To use short circuiting, Julia provides 2 operations: `||` for shirt-circuit OR, and `&&` for short-circuit AND. "
   ]
  },
  {
   "cell_type": "code",
   "execution_count": 1,
   "metadata": {},
   "outputs": [
    {
     "name": "stdout",
     "output_type": "stream",
     "text": [
      "whole statement is true\n",
      "whole statement is false\n"
     ]
    }
   ],
   "source": [
    "function shortcircuitdemo()\n",
    "\n",
    "    # define trueprint() method \n",
    "    function trueprint()\n",
    "        println(\"If this line is printed after a `true || trueprint()` or a \",\n",
    "                \"`false && trueprint()` statement, there is NO short circuiting.\",\n",
    "                \"Fortunately, this is not printed because we're using \",\n",
    "                \"short circuiting\")\n",
    "        return true\n",
    "    end\n",
    "\n",
    "    # check if shortcircuiting happens. If trueprint() prints out the statement\n",
    "    # above, then NO shortcircuiting happened; otherwise, it did.\n",
    "    if (true || trueprint())\n",
    "        println(\"whole statement is true\")\n",
    "    end\n",
    "    if (false && trueprint())\n",
    "        # pass, i.e. do nothing\n",
    "    else\n",
    "        println(\"whole statement is false\")\n",
    "    end\n",
    "end\n",
    "\n",
    "shortcircuitdemo()"
   ]
  },
  {
   "cell_type": "markdown",
   "metadata": {},
   "source": [
    "If you don't want short circuiting, you can use bitwise evaluation instead, with `|` for bitwise OR and `&` for bitwise AND."
   ]
  },
  {
   "cell_type": "code",
   "execution_count": 47,
   "metadata": {},
   "outputs": [
    {
     "name": "stdout",
     "output_type": "stream",
     "text": [
      "This line is supposed to be printed after a `true | trueprint()` or a `false & trueprint()` statement.\n",
      "whole statement is true\n",
      "This line is supposed to be printed after a `true | trueprint()` or a `false & trueprint()` statement.\n",
      "whole statement is false\n"
     ]
    }
   ],
   "source": [
    "function bitwisedemo()\n",
    "\n",
    "    # define trueprint() method \n",
    "    function trueprint()\n",
    "        println(\"This line is supposed to be printed after a `true | trueprint()`\",\n",
    "                \" or a `false & trueprint()` statement.\")\n",
    "        return true\n",
    "    end\n",
    "\n",
    "    # check if bitwise operations entail that all substatements are evaluated.\n",
    "    # If that's the case, the statement above should be printed.\n",
    "    if (true | trueprint())\n",
    "        println(\"whole statement is true\")\n",
    "    end\n",
    "    if (false & trueprint())\n",
    "        # pass, i.e. do nothing\n",
    "    else\n",
    "        println(\"whole statement is false\")\n",
    "    end\n",
    "end\n",
    "\n",
    "bitwisedemo()"
   ]
  },
  {
   "cell_type": "markdown",
   "metadata": {},
   "source": [
    "## 3. Shorthands"
   ]
  },
  {
   "cell_type": "markdown",
   "metadata": {},
   "source": [
    "Almost every language I have come across has syntactic sugars that are either annoying or very handy. If you're in a good mood and has achieved great things with Julia, you might consider using the following syntactic sugars for conditions whenever you can--they save a lot of time, make you look infinitely cool, and might obfuscate your code to the point that few can hack it."
   ]
  },
  {
   "cell_type": "markdown",
   "metadata": {},
   "source": [
    "### 3.1. One-line conditional statement\n",
    "\n",
    "It's hard to name this kind of syntax when not a lot of popular languages have something similar, so let's just call it a *one-line conditional statement*. It literally is that: instead of typing 2-3 lines of conventional if-else, you can just write something like this:"
   ]
  },
  {
   "cell_type": "code",
   "execution_count": 64,
   "metadata": {},
   "outputs": [
    {
     "name": "stdout",
     "output_type": "stream",
     "text": [
      "Fibonnaci number at index 10: 55\n"
     ]
    }
   ],
   "source": [
    "function fib(n::Int)\n",
    "    n >= 0 || error(\"Input must not be negative.\") # `||` may read as \"or else\"\n",
    "    n <= 1 && return n # `&&` may read as \"and then\"\n",
    "    return fib(n-1) + fib(n-2)\n",
    "end\n",
    "\n",
    "println(\"Fibonnaci number at index 10: \", fib(10))"
   ]
  },
  {
   "cell_type": "code",
   "execution_count": 67,
   "metadata": {},
   "outputs": [
    {
     "ename": "ErrorException",
     "evalue": "Input must not be negative.",
     "output_type": "error",
     "traceback": [
      "Input must not be negative.\n",
      "\n",
      "Stacktrace:\n",
      "  [1] error(s::String)\n",
      "    @ Base ./error.jl:33\n",
      "  [2] fib(n::Int64)\n",
      "    @ Main ~/Documents/intro_julia/tutorials/Tut2_SelectronControl.ipynb:2\n",
      "  [3] top-level scope\n",
      "    @ ~/Documents/intro_julia/tutorials/Tut2_SelectronControl.ipynb:1\n",
      "  [4] eval\n",
      "    @ ./boot.jl:373 [inlined]\n",
      "  [5] include_string(mapexpr::typeof(REPL.softscope), mod::Module, code::String, filename::String)\n",
      "    @ Base ./loading.jl:1196\n",
      "  [6] #invokelatest#2\n",
      "    @ ./essentials.jl:716 [inlined]\n",
      "  [7] invokelatest\n",
      "    @ ./essentials.jl:714 [inlined]\n",
      "  [8] (::VSCodeServer.var\"#159#160\"{VSCodeServer.NotebookRunCellArguments, String})()\n",
      "    @ VSCodeServer ~/.vscode/extensions/julialang.language-julia-1.6.10/scripts/packages/VSCodeServer/src/serve_notebook.jl:19\n",
      "  [9] withpath(f::VSCodeServer.var\"#159#160\"{VSCodeServer.NotebookRunCellArguments, String}, path::String)\n",
      "    @ VSCodeServer ~/.vscode/extensions/julialang.language-julia-1.6.10/scripts/packages/VSCodeServer/src/repl.jl:184\n",
      " [10] notebook_runcell_request(conn::VSCodeServer.JSONRPC.JSONRPCEndpoint{Base.PipeEndpoint, Base.PipeEndpoint}, params::VSCodeServer.NotebookRunCellArguments)\n",
      "    @ VSCodeServer ~/.vscode/extensions/julialang.language-julia-1.6.10/scripts/packages/VSCodeServer/src/serve_notebook.jl:13\n",
      " [11] dispatch_msg(x::VSCodeServer.JSONRPC.JSONRPCEndpoint{Base.PipeEndpoint, Base.PipeEndpoint}, dispatcher::VSCodeServer.JSONRPC.MsgDispatcher, msg::Dict{String, Any})\n",
      "    @ VSCodeServer.JSONRPC ~/.vscode/extensions/julialang.language-julia-1.6.10/scripts/packages/JSONRPC/src/typed.jl:67\n",
      " [12] serve_notebook(pipename::String, outputchannel_logger::Base.CoreLogging.SimpleLogger; crashreporting_pipename::String)\n",
      "    @ VSCodeServer ~/.vscode/extensions/julialang.language-julia-1.6.10/scripts/packages/VSCodeServer/src/serve_notebook.jl:135\n",
      " [13] top-level scope\n",
      "    @ ~/.vscode/extensions/julialang.language-julia-1.6.10/scripts/notebook/notebook.jl:16\n",
      " [14] include(mod::Module, _path::String)\n",
      "    @ Base ./Base.jl:418\n",
      " [15] exec_options(opts::Base.JLOptions)\n",
      "    @ Base ./client.jl:292\n",
      " [16] _start()\n",
      "    @ Base ./client.jl:495"
     ]
    }
   ],
   "source": [
    "println(\"What if a negative number is passed as input?\", \n",
    "        fib(-10))"
   ]
  },
  {
   "cell_type": "markdown",
   "metadata": {},
   "source": [
    "Some might say that this shorthand is actually more readable than conventional if-else especially for declaring stop conditions for recursive functions. I disagree; I think it does not not save that much time comparing to explicitly writing a whole if-else block, but it sure looks unnecessarily intimidating."
   ]
  },
  {
   "cell_type": "markdown",
   "metadata": {},
   "source": [
    "### 3.2. Ternary Statements"
   ]
  },
  {
   "cell_type": "markdown",
   "metadata": {},
   "source": [
    "Sometimes you have very good reasons to write `if`-`else` statements in just 1 line of code, such as writing lambda expressions and list comprehensions (*i.e.*, populating a list by a terse loop statement). Ternary statements come to the rescue! You might have seen languages like Java and C++ allowing this feature, and they also use the same operators as those in Julia. The syntax is \n",
    "\n",
    "```\n",
    "<Condition> ? <Action if condition is met> : <Action otherwise>\n",
    "```"
   ]
  },
  {
   "cell_type": "code",
   "execution_count": 32,
   "metadata": {},
   "outputs": [
    {
     "name": "stdout",
     "output_type": "stream",
     "text": [
      "1.0 is positive\n",
      "-1.0 is non-positive\n"
     ]
    }
   ],
   "source": [
    "# ternary statement in a lambda expression\n",
    "\n",
    "f = (x::Real) -> \n",
    "     x > 0 ? println(string(x)*\" is positive\") : println(string(x)*\" is non-positive\")\n",
    "f(1.0)\n",
    "f(-1.0)"
   ]
  },
  {
   "cell_type": "code",
   "execution_count": 33,
   "metadata": {},
   "outputs": [
    {
     "data": {
      "text/plain": [
       "1×8 Matrix{Bool}:\n",
       " 0  1  0  1  0  1  0  1"
      ]
     },
     "metadata": {},
     "output_type": "display_data"
    }
   ],
   "source": [
    "# ternary statement in a list comprehension. We're creating a list of Boolean\n",
    "# values corresponding to the parity of elements in another list called `array`\n",
    "\n",
    "array = [1 2 3 4 5 6 7 8]\n",
    "even_mask = [x % 2 == 0 ? true : false for x = array]\n",
    "even_mask"
   ]
  },
  {
   "cell_type": "markdown",
   "metadata": {},
   "source": [
    "## Conclusion\n",
    "\n",
    "We have learned that there are not many new and exciting things about `if`-`elseif`-`else` statements in Jula. Like all code blocks in Julia, we start with a header--`if`, in this case--and continue with a few other statements, sometimes with control flow keywords like `elseif` and `else`. (And remember to end a code block with `end`!). \n",
    "\n",
    "Condition expressions can contain comparison operators like `==`, `===`, `>`, `>=`, `<`, `<=`, `!=`, and `!==`, and/or logical operators like `||` and `&&`. Note that those logical operators are for short-circuit evaluation; if you don't want to short-circuit, use bitwise operators `|` and `&` instead.\n",
    "\n",
    "In Julia, things that can be evaluated to `true` or `false` can only be condition expressions (*e.g.*, comparisons, compound logical expressions, etc.) and things that are subtypes of or return a `Bool` type (*e.g.*, a function returning `true` or `false` or a `Bool` variable). No other stuff can take the place of a condition expression. If you really wish to, say, use the integer `1` as a surrogate of `true`, then you must convert it to `Bool` using `convert(Bool, 1)`. However, conversion is not always possible; to make a conversion possible, sometimes you need to get your hands dirty, open a whole can of worms relating to the type system and type definition, and write a `convert` function yourself. That is beyond the scope of this tutorial, but you'll know how to do it when we get to multiple dispatch and type definition, which are covered in tutorial 3 and 4.\n",
    "\n",
    "Syntactic sugars are usually bitter to the taste buds of beginners or those who just want to read and understand your code in one sitting. But if you're really in the right mood and situation, there are shorthand `if`-`else`s and ternary statements that both look cool and possibly useful in a few cases."
   ]
  }
 ],
 "metadata": {
  "interpreter": {
   "hash": "aee8b7b246df8f9039afb4144a1f6fd8d2ca17a180786b69acc140d282b71a49"
  },
  "kernelspec": {
   "display_name": "Julia 1.7.2",
   "language": "julia",
   "name": "julia-1.7"
  },
  "language_info": {
   "file_extension": ".jl",
   "mimetype": "application/julia",
   "name": "julia",
   "version": "1.7.2"
  },
  "orig_nbformat": 4
 },
 "nbformat": 4,
 "nbformat_minor": 2
}
